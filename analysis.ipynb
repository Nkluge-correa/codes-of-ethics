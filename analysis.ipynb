{
 "cells": [
  {
   "cell_type": "markdown",
   "metadata": {
    "id": "zaOWh5tHU_Jc"
   },
   "source": [
    "# Codes of Ethics in IT: _do they matter?_\n",
    "\n",
    "<a href=\"https://colab.research.google.com/drive/1OcMBVrCDxPgEv_tNUTrg7rKePYS6uPs7\" target=\"_blank\">\n",
    "  <img src=\"https://colab.research.google.com/assets/colab-badge.svg\" alt=\"Open In Colab\">\n",
    "</a>\n",
    "\n",
    "![Someone is stretching their arms in front of a computer monitor.](https://raw.githubusercontent.com/Nkluge-correa/codes-of-ethics/main/img/Dilemma-00.gif)\n",
    "\n",
    "Building upon past works, this study seeks to assess the influence of codes of ethics on the decision-making of IT professionals and students when confronted with ethical dilemmas and moral self-assessment questions. **We conducted a randomized controlled trial on 225 IT students and professionals for this, using a multi-media implementation of the 2018 Association for Computing Machinery Code of Ethics as our intervention in our experimental group.**\n",
    "\n",
    "Research questions:\n",
    "\n",
    "1. Can passive exposure to a CoE influence the decision-making of IT professionals and students?\n",
    "\n",
    "2. Is ethical training an active topic in their academic or professional careers?\n",
    "\n",
    "3. What is the importance IT professionals and students attribute to CoEs?\n",
    "\n",
    "4. Can passive exposure to a CoE influence how IT professionals and students perceive their moral behavior?"
   ]
  },
  {
   "cell_type": "markdown",
   "metadata": {
    "id": "zDu-0dyIWRTl"
   },
   "source": [
    "## Load the data.\n",
    "\n",
    "These files contain the responses to the survey.\n",
    "\n",
    " - [`control.csv`](./data/control.csv) contains the responses from the control group.\n",
    " - [`experimental.csv`](./data/experimental.csv) contains the responses from the experimental group."
   ]
  },
  {
   "cell_type": "code",
   "execution_count": 15,
   "metadata": {
    "executionInfo": {
     "elapsed": 2685,
     "status": "ok",
     "timestamp": 1709802021820,
     "user": {
      "displayName": "Nicholas Corrêa",
      "userId": "09736120585766268588"
     },
     "user_tz": -60
    },
    "id": "cvakOy_ZU5h-"
   },
   "outputs": [
    {
     "name": "stdout",
     "output_type": "stream",
     "text": [
      "Number of samples in control group: 112\n",
      "Number of samples in experimental group: 113\n"
     ]
    }
   ],
   "source": [
    "# Libraries required for the analysis.\n",
    "import numpy as np\n",
    "import pandas as pd\n",
    "from scipy import stats\n",
    "import matplotlib.pyplot as plt\n",
    "\n",
    "df_control = pd.read_csv('./data/control.csv')\n",
    "df_experimental = pd.read_csv('./data/experimental.csv')\n",
    "\n",
    "# As a choice, you can, for example, select only the samples with self-reporting values less than or equal to 2\n",
    "# (below average ethical training) for the analysis.\n",
    "#df_control = df_control[df_control['self_reporting_1'] <= 2]\n",
    "#df_control.reset_index(drop=True, inplace=True)\n",
    "#df_experimental = df_experimental[df_experimental['self_reporting_1'] <= 2]\n",
    "#df_experimental.reset_index(drop=True, inplace=True)\n",
    "\n",
    "print('Number of samples in control group: {}'.format(len(df_control)))\n",
    "print('Number of samples in experimental group: {}'.format(len(df_experimental)))"
   ]
  },
  {
   "cell_type": "markdown",
   "metadata": {
    "id": "pp1-ThKIVaJx"
   },
   "source": [
    "## Agregation\n",
    "\n",
    "Now, we will do some simple pre-processing to help with our analysis. Binarizing the `age` and `occupation` columns just helps us create larger groups from which we can actually try to do some statistics without having to worry too much about the size of our sample."
   ]
  },
  {
   "cell_type": "code",
   "execution_count": 16,
   "metadata": {
    "executionInfo": {
     "elapsed": 255,
     "status": "ok",
     "timestamp": 1709802031522,
     "user": {
      "displayName": "Nicholas Corrêa",
      "userId": "09736120585766268588"
     },
     "user_tz": -60
    },
    "id": "E0gIkKuRVcN7"
   },
   "outputs": [],
   "source": [
    "# Concatenate the dataframes into a single dataframe.\n",
    "df = pd.concat([df_control, df_experimental], ignore_index=True)\n",
    "\n",
    "# Drop the columns that won't be used in the analysis.\n",
    "df = df.drop(\n",
    "    columns=[\n",
    "        'token',\n",
    "        'start_time',\n",
    "        'date',\n",
    "        'submit_time',\n",
    "        'time_of_completion',\n",
    "    ]\n",
    ")\n",
    "\n",
    "# Binarize the `Age` column.\n",
    "df.age = df.age.replace(\n",
    "    {\n",
    "    '18-24': '18-24',\n",
    "    '25-34': '+24',\n",
    "    '35-44': '+24',\n",
    "    '45-54': '+24',\n",
    "    '55-64': '+24',\n",
    "    '65+': '+24',\n",
    "    }\n",
    ")\n",
    "\n",
    "# Binaraize the `Occupation` column.\n",
    "df.occupation = df.occupation.replace(\n",
    "    {\n",
    "    'Student': 'Student',\n",
    "    'Intern': 'Student',\n",
    "    'Junior Developer': 'Professional',\n",
    "    'Mid-Level Developer': 'Professional',\n",
    "    'Senior Developer': 'Professional',\n",
    "    }\n",
    ")\n",
    "\n",
    "\n",
    "# Replace the nan values in the `formation` and `gender` columns with 'Other'.\n",
    "df['formation'] = df['formation'].fillna('Other')\n",
    "df['gender'] = df['gender'].fillna('Other')\n",
    "\n",
    "# Separate the dataframes into control and experimental groups.\n",
    "df_control = df[df['group'] == 'control'].reset_index(drop=True)\n",
    "df_experimental = df[df['group'] == 'experimental'].reset_index(drop=True)"
   ]
  },
  {
   "cell_type": "markdown",
   "metadata": {
    "id": "vRnNZNrWVe2H"
   },
   "source": [
    "## Demographic Analysis\n",
    "\n",
    "Now that we have aggregated the data, we will perform a demographic analysis. The function below plots and prints an analysis for our chosen demographic attribute (`['age', 'occupation', 'formation', 'gender']`)."
   ]
  },
  {
   "cell_type": "code",
   "execution_count": 17,
   "metadata": {
    "colab": {
     "base_uri": "https://localhost:8080/",
     "height": 1000
    },
    "executionInfo": {
     "elapsed": 658,
     "status": "ok",
     "timestamp": 1709803649265,
     "user": {
      "displayName": "Nicholas Corrêa",
      "userId": "09736120585766268588"
     },
     "user_tz": -60
    },
    "id": "k0YsLex2NinM",
    "outputId": "6b43f5d0-529d-4479-f826-dbd4fe7a2072"
   },
   "outputs": [],
   "source": [
    "def DemographicAnalysis(attribute):\n",
    "    \"\"\"\n",
    "    Perform demographic analysis for a given attribute.\n",
    "\n",
    "    Args:\n",
    "    attribute (str): The attribute to perform analysis on.\n",
    "\n",
    "    Returns:\n",
    "    None. Prints the distribution plots and demographic analysis.\n",
    "    \"\"\"\n",
    "\n",
    "    # Assert that the attribute is in the dataframe.\n",
    "    assert attribute in df.columns, f\"{attribute} is not in the dataframe.\"\n",
    "\n",
    "    # Assert that the attribute is one of the demographic attributes.\n",
    "    assert attribute in ['age', 'occupation', 'formation', 'gender'], f\"{attribute} is not a demographic attribute.\"\n",
    "\n",
    "    # Plot the attribute distribution in the control and experimental groups.\n",
    "    plt.figure(figsize=(10, 6))\n",
    "\n",
    "    # Determine the unique categories for the attribute.\n",
    "    categories = df[attribute].unique()\n",
    "    num_categories = len(categories)\n",
    "    bar_width = 0.35\n",
    "\n",
    "    # Position of bars on X-axis.\n",
    "    r1 = range(num_categories)\n",
    "    r2 = [x + bar_width for x in r1]\n",
    "\n",
    "    # Count occurrences of each category in control and experimental groups.\n",
    "    control_counts = df_control[attribute].value_counts().reindex(categories, fill_value=0)\n",
    "    experimental_counts = df_experimental[attribute].value_counts().reindex(categories, fill_value=0)\n",
    "\n",
    "    # Plotting bars.\n",
    "    plt.bar(r1, control_counts, color='skyblue', width=bar_width, edgecolor='black', label='Control')\n",
    "    plt.bar(r2, experimental_counts, color='lightcoral', width=bar_width, edgecolor='black', label='Experimental')\n",
    "\n",
    "    # Adding labels.\n",
    "    plt.xlabel(attribute.capitalize())\n",
    "    plt.ylabel('Count')\n",
    "    plt.title(f'Distribution of {attribute.capitalize()}')\n",
    "    plt.xticks([r + bar_width / 2 for r in range(num_categories)], categories, rotation=45, ha='right')\n",
    "    plt.legend()\n",
    "\n",
    "    plt.show()\n",
    "\n",
    "    # Calculate demographic analysis.\n",
    "    temp_df = pd.DataFrame({\n",
    "        'all': df[attribute].value_counts().values,\n",
    "        '%': df[attribute].value_counts(normalize=True).values * 100,\n",
    "    }, index=df[attribute].value_counts().index)\n",
    "\n",
    "    temp_df_control = pd.DataFrame({\n",
    "        'control': df_control[attribute].value_counts().values,\n",
    "        '%': df_control[attribute].value_counts(normalize=True).values * 100,\n",
    "    }, index=df_control[attribute].value_counts().index)\n",
    "\n",
    "    temp_df_experimental = pd.DataFrame({\n",
    "        'experimental': df_experimental[attribute].value_counts().values,\n",
    "        '%': df_experimental[attribute].value_counts(normalize=True).values * 100,\n",
    "    }, index=df_experimental[attribute].value_counts().index)\n",
    "\n",
    "    # Concatenate the dataframes and use the attribute as the index.\n",
    "    result_df = pd.concat([temp_df, temp_df_control, temp_df_experimental], axis=1)\n",
    "\n",
    "    # Fill the nan values with 0.\n",
    "    result_df = result_df.fillna(0)\n",
    "    \n",
    "    # Rename index to be the attribute\n",
    "    result_df.index.name = attribute.capitalize()\n",
    "\n",
    "    # Round all values of the column \"%\" to be 2 decimal places.\n",
    "    result_df['%'] = result_df['%'].round(2)\n",
    "\n",
    "    # Print the demographic analysis in Markdown format.\n",
    "    print(f\"\\nDemographic analysis for {attribute.capitalize()}\\n--------------------------------------\\n\")\n",
    "    print(result_df.to_markdown())"
   ]
  },
  {
   "cell_type": "code",
   "execution_count": null,
   "metadata": {},
   "outputs": [],
   "source": [
    "DemographicAnalysis('age')"
   ]
  },
  {
   "cell_type": "code",
   "execution_count": null,
   "metadata": {
    "colab": {
     "base_uri": "https://localhost:8080/",
     "height": 1000
    },
    "executionInfo": {
     "elapsed": 990,
     "status": "ok",
     "timestamp": 1709803471826,
     "user": {
      "displayName": "Nicholas Corrêa",
      "userId": "09736120585766268588"
     },
     "user_tz": -60
    },
    "id": "SzGiHNIpVivu",
    "outputId": "c500d38d-a80b-434a-9f4a-60f0ae411745"
   },
   "outputs": [],
   "source": [
    "DemographicAnalysis('occupation')"
   ]
  },
  {
   "cell_type": "code",
   "execution_count": null,
   "metadata": {
    "colab": {
     "base_uri": "https://localhost:8080/",
     "height": 1000
    },
    "executionInfo": {
     "elapsed": 867,
     "status": "ok",
     "timestamp": 1709803478067,
     "user": {
      "displayName": "Nicholas Corrêa",
      "userId": "09736120585766268588"
     },
     "user_tz": -60
    },
    "id": "8d0D6-LTObe2",
    "outputId": "239003e0-91f7-4e30-be03-c1798b0fcc51"
   },
   "outputs": [],
   "source": [
    "DemographicAnalysis('formation')"
   ]
  },
  {
   "cell_type": "code",
   "execution_count": null,
   "metadata": {
    "colab": {
     "base_uri": "https://localhost:8080/",
     "height": 1000
    },
    "executionInfo": {
     "elapsed": 752,
     "status": "ok",
     "timestamp": 1709803482268,
     "user": {
      "displayName": "Nicholas Corrêa",
      "userId": "09736120585766268588"
     },
     "user_tz": -60
    },
    "id": "fGg0mcSAObdu",
    "outputId": "60050be6-0402-444f-8d38-e27318a35614"
   },
   "outputs": [],
   "source": [
    "DemographicAnalysis('gender')"
   ]
  },
  {
   "cell_type": "markdown",
   "metadata": {},
   "source": [
    "## Pre-processing of Ethical Dilemmas\n",
    "\n",
    "Before we begin our statistical analysis, we will replace the string values of our respondent's replies with numerical (integer) values representing their responses. Since every dilemma has 3 possible responses, all responses are mapped to one of the possible values: `0, 1, 2` (2 is reserved for the \"Indecisive\" option)."
   ]
  },
  {
   "cell_type": "code",
   "execution_count": 18,
   "metadata": {
    "executionInfo": {
     "elapsed": 212,
     "status": "ok",
     "timestamp": 1709802045921,
     "user": {
      "displayName": "Nicholas Corrêa",
      "userId": "09736120585766268588"
     },
     "user_tz": -60
    },
    "id": "mZ9MaV_jVofA"
   },
   "outputs": [],
   "source": [
    "# Concatenate the dataframes into a single dataframe.\n",
    "df = pd.concat([df_control, df_experimental], ignore_index=True)\n",
    "\n",
    "# Loop through the ethical dilemmas and replace the values with integers.\n",
    "for i in range(1, 17):\n",
    "\n",
    "    # Get the name of the column.\n",
    "    name = f\"dilemma_{i}\"\n",
    "\n",
    "    # Get the unique values of the column.\n",
    "    unique_values = list(df[name].unique())\n",
    "\n",
    "    # check if 'Indecisive' is in the unique values\n",
    "    assert 'Indecisive' in unique_values\n",
    "\n",
    "    # Make the `Indecisive` option the last one in the list.\n",
    "    for value in unique_values:\n",
    "        if value == 'Indecisive':\n",
    "            unique_values.remove(value)\n",
    "            unique_values.append(value)\n",
    "\n",
    "    # Create a dictionary with the unique values as keys and a corresponding integer as value.\n",
    "    unique_values_dict = {value: i for i, value in enumerate(unique_values)}\n",
    "    #print(unique_values_dict)\n",
    "\n",
    "    # Replace the values in the dataframe with the corresponding integer.\n",
    "    df[name] = df[name].map(unique_values_dict)\n",
    "\n",
    "# Reset the df_control and df_experimental dataframes.\n",
    "df_control = df[df['group'] == 'control'].reset_index(drop=True)\n",
    "df_experimental = df[df['group'] == 'experimental'].reset_index(drop=True)"
   ]
  },
  {
   "cell_type": "markdown",
   "metadata": {
    "id": "CrYXU9m3VqZw"
   },
   "source": [
    "## Ethical Dilemmas Analysis\n",
    "\n",
    "Now, we will analyze the distribution of responses for each ethical dilemma. Remembering that, in this experiment, our hypotheses are:\n",
    "\n",
    "- **Null Hypothesis (H0):** The samples from all groups are drawn from the same population distribution (i.e., the intervention had no effect)\n",
    "- **Alternative Hypothesis (H1):** At least one of the groups comes from a different population distribution than the others (i.e., the intervention or some unknown confounder had an effect).\n",
    "\n",
    "To perform our statistical analysis, we will apply the following tests:\n",
    "\n",
    "- Given that the options in our dilemmas only provide nominal categories with no rank (our data is not ordinal), we will Perform a [Chi-Square Test of Independence](https://en.wikipedia.org/wiki/Chi-squared_test) to determine whether or not there is a significant association between group membership and responses ([`stats.chi2_contingency`](https://docs.scipy.org/doc/scipy/reference/generated/scipy.stats.chi2_contingency.html)).\n",
    "\n",
    "- We will perform a [Kruskal–Wallis test](https://en.wikipedia.org/wiki/Kruskal%E2%80%93Wallis_test) to determine whether or not there is a statistically significant difference between the medians of our groups ([`stats.kruskal`](https://docs.scipy.org/doc/scipy/reference/generated/scipy.stats.kruskal.html)). This test will only be used in the questions that produce ranks of responses, i.e., the self-assessment and SCES questions (ordinal, nominal data).\n",
    "\n",
    "- To control the false discovery rate, given that we are performing a statistical test per question in our survey, we will be conducting a [Benjamini-Hochberg Procedure](https://en.wikipedia.org/wiki/False_discovery_rate) at the end ([`stats.false_discovery_control`](https://scipy.github.io/devdocs/reference/generated/scipy.stats.false_discovery_control.html)).\n",
    " \n",
    "> **Note: rejecting the null hypothesis does not indicate which of the groups differs. Post hoc comparisons between groups are required to determine how these groups differ.**"
   ]
  },
  {
   "cell_type": "code",
   "execution_count": 19,
   "metadata": {},
   "outputs": [],
   "source": [
    "def PerformTestWithBH(\n",
    "    df_control: pd.DataFrame, \n",
    "    df_experimental: pd.DataFrame, \n",
    "    column_name: str, \n",
    "    n: int, \n",
    "    test_type: str\n",
    "):\n",
    "    \"\"\"\n",
    "    Perform a statistical test with Benjamini-Hochberg (BH) correction.\n",
    "\n",
    "    Args:\n",
    "    df_control (DataFrame): DataFrame containing control data.\n",
    "    df_experimental (DataFrame): DataFrame containing experimental data.\n",
    "    column_name (str): Name of the column to perform the test on (dilemma, self_reporting, or SCES).\n",
    "    n (int): Number of columns to perform the test on.\n",
    "    test_type (str): Type of test to perform ('chi2' for Chi-square test or 'kruskal' for Kruskal-Wallis test).\n",
    "\n",
    "    Returns:\n",
    "    None. Prints a Markdown table of p-values and adjusted p-values.\n",
    "    \"\"\"\n",
    "    # Initialize a list to store p-values\n",
    "    p_values = []\n",
    "    names = []\n",
    "\n",
    "    # Iterate over the columns\n",
    "    for i in range(n):\n",
    "        # Construct the column name dynamically\n",
    "        name = f\"{column_name}_{i + 1}\"\n",
    "        \n",
    "        if test_type == 'chi2':\n",
    "            # Create DataFrame for control data\n",
    "            temp_df_control = pd.DataFrame({'control': df_control[name].value_counts().values},\n",
    "                                           index=df_control[name].value_counts().index)\n",
    "\n",
    "            # Create DataFrame for experimental data\n",
    "            temp_df_experimental = pd.DataFrame({'experimental': df_experimental[name].value_counts().values},\n",
    "                                                 index=df_experimental[name].value_counts().index)\n",
    "            \n",
    "            # Concatenate control and experimental dataframes\n",
    "            result_df = pd.concat([temp_df_control, temp_df_experimental], axis=1)\n",
    "            # Replace NaN values with 0\n",
    "            result_df = result_df.fillna(0)\n",
    "\n",
    "            # Perform Chi-square test\n",
    "            stat, p_value, _, _ = stats.chi2_contingency(\n",
    "                np.array([result_df['control'].values, result_df['experimental'].values])\n",
    "            )\n",
    "            \n",
    "        elif test_type == 'kruskal':\n",
    "            # Get the values of the control and experimental groups.\n",
    "            control_values = df_control[name].values\n",
    "            experimental_values = df_experimental[name].values\n",
    "\n",
    "            # Perform the Kruskal-Wallis H-test for independence.\n",
    "            stat, p_value = stats.kruskal(control_values, experimental_values)\n",
    "        else:\n",
    "            raise ValueError(\"Invalid test_type. Use 'chi2' or 'kruskal'.\")\n",
    "\n",
    "        # Append p-value to the list\n",
    "        p_values.append(p_value)\n",
    "        names.append(name.replace(\"_\", \" \").title())\n",
    "    \n",
    "    # Create a DataFrame for p-values\n",
    "    p_values_df = pd.DataFrame({\n",
    "        column_name.title().replace(\"_\", \" \"): names,\n",
    "        \"p-value\": p_values,\n",
    "    })\n",
    "\n",
    "    # Sort the dataframe by p-values\n",
    "    p_values_df = p_values_df.sort_values(by='p-value').reset_index(drop=True)\n",
    "\n",
    "    # Perform Benjamini-Hochberg correction\n",
    "    ps_adjusted = stats.false_discovery_control(p_values_df['p-value'].values, axis=0, method='bh')\n",
    "\n",
    "    # Add adjusted p-values to the DataFrame\n",
    "    p_values_df['Adjusted p-value'] = ps_adjusted\n",
    "\n",
    "    # Print Markdown table\n",
    "    if test_type == 'chi2':\n",
    "        print(f\"\"\"\\nChi-square test ({column_name.title().replace(\"_\", \" \")})\\n--------------------------------------\\n\"\"\")\n",
    "    \n",
    "    else:\n",
    "        print(f\"\"\"\\nKruskal-Wallis test ({column_name.title().replace(\"_\", \" \")})\\n--------------------------------------\\n\"\"\")\n",
    "\n",
    "    print(p_values_df.to_markdown(index=False), \"\\n\")"
   ]
  },
  {
   "cell_type": "code",
   "execution_count": 20,
   "metadata": {},
   "outputs": [
    {
     "name": "stdout",
     "output_type": "stream",
     "text": [
      "\n",
      "Chi-square test (Dilemma)\n",
      "--------------------------------------\n",
      "\n",
      "| Dilemma    |   p-value |   Adjusted p-value |\n",
      "|:-----------|----------:|-------------------:|\n",
      "| Dilemma 3  | 0.0278158 |           0.386483 |\n",
      "| Dilemma 4  | 0.0500253 |           0.386483 |\n",
      "| Dilemma 2  | 0.0890799 |           0.386483 |\n",
      "| Dilemma 16 | 0.13358   |           0.386483 |\n",
      "| Dilemma 14 | 0.160441  |           0.386483 |\n",
      "| Dilemma 11 | 0.162544  |           0.386483 |\n",
      "| Dilemma 8  | 0.169086  |           0.386483 |\n",
      "| Dilemma 10 | 0.301639  |           0.603278 |\n",
      "| Dilemma 6  | 0.368412  |           0.638769 |\n",
      "| Dilemma 7  | 0.39923   |           0.638769 |\n",
      "| Dilemma 12 | 0.503154  |           0.690063 |\n",
      "| Dilemma 15 | 0.517547  |           0.690063 |\n",
      "| Dilemma 5  | 0.604103  |           0.743512 |\n",
      "| Dilemma 13 | 0.702408  |           0.802752 |\n",
      "| Dilemma 1  | 0.855336  |           0.912359 |\n",
      "| Dilemma 9  | 0.972743  |           0.972743 | \n",
      "\n"
     ]
    }
   ],
   "source": [
    "PerformTestWithBH(df_control, df_experimental, 'dilemma', 16, 'chi2')"
   ]
  },
  {
   "cell_type": "code",
   "execution_count": 21,
   "metadata": {},
   "outputs": [
    {
     "name": "stdout",
     "output_type": "stream",
     "text": [
      "\n",
      "Kruskal-Wallis test (Self Reporting)\n",
      "--------------------------------------\n",
      "\n",
      "| Self Reporting   |   p-value |   Adjusted p-value |\n",
      "|:-----------------|----------:|-------------------:|\n",
      "| Self Reporting 1 |  0.549653 |           0.681765 |\n",
      "| Self Reporting 2 |  0.681765 |           0.681765 | \n",
      "\n"
     ]
    }
   ],
   "source": [
    "PerformTestWithBH(df_control, df_experimental, 'self_reporting', 2, 'kruskal')"
   ]
  },
  {
   "cell_type": "code",
   "execution_count": 22,
   "metadata": {},
   "outputs": [
    {
     "name": "stdout",
     "output_type": "stream",
     "text": [
      "\n",
      "Kruskal-Wallis test (Sces)\n",
      "--------------------------------------\n",
      "\n",
      "| Sces    |   p-value |   Adjusted p-value |\n",
      "|:--------|----------:|-------------------:|\n",
      "| Sces 8  |  0.185532 |           0.925908 |\n",
      "| Sces 1  |  0.354289 |           0.925908 |\n",
      "| Sces 3  |  0.40508  |           0.925908 |\n",
      "| Sces 10 |  0.521481 |           0.925908 |\n",
      "| Sces 2  |  0.621003 |           0.925908 |\n",
      "| Sces 5  |  0.667007 |           0.925908 |\n",
      "| Sces 6  |  0.74774  |           0.925908 |\n",
      "| Sces 7  |  0.88575  |           0.925908 |\n",
      "| Sces 9  |  0.907431 |           0.925908 |\n",
      "| Sces 4  |  0.925908 |           0.925908 | \n",
      "\n"
     ]
    }
   ],
   "source": [
    "PerformTestWithBH(df_control, df_experimental, 'SCES', 10, 'kruskal')"
   ]
  },
  {
   "cell_type": "markdown",
   "metadata": {},
   "source": [
    "Below, we perform the same tests but on only one portion of our sample. We are assessing if significant results can be found inside smaller groups that compose our control and experimental ensemble (e.g., does the ACM code of ethics influence students?)."
   ]
  },
  {
   "cell_type": "code",
   "execution_count": 23,
   "metadata": {},
   "outputs": [],
   "source": [
    "def PerformTestWithBHonSubGroup(\n",
    "    df_control: pd.DataFrame,\n",
    "    df_experimental: pd.DataFrame,\n",
    "    column_name: str,\n",
    "    n: int,\n",
    "    test_type: str,\n",
    "    group: str,\n",
    "    sub_group: str\n",
    "):\n",
    "    \"\"\"\n",
    "    Perform a statistical test with Benjamini-Hochberg (BH) correction on a subgroup.\n",
    "\n",
    "    Args:\n",
    "    df_control (DataFrame): DataFrame containing control data.\n",
    "    df_experimental (DataFrame): DataFrame containing experimental data.\n",
    "    column_name (str): Name of the column to perform the test on (dilemma, self_reporting, or SCES).\n",
    "    n (int): Number of columns to perform the test on.\n",
    "    test_type (str): Type of test to perform ('chi2' for Chi-square test or 'kruskal' for Kruskal-Wallis test).\n",
    "    group (str): Group to perform the test on ('Age').\n",
    "    sub_group (str): Subgroup to perform the test on ('18-24').\n",
    "\n",
    "    Returns:\n",
    "    None. Prints a Markdown table of p-values and adjusted p-values.\n",
    "    \"\"\"\n",
    "    # Assert that the group amd subgroup are in the dataframe.\n",
    "    assert group in df_control.columns, f\"{group} is not in the dataframe.\"\n",
    "    assert sub_group in df_control[group].unique(), f\"{sub_group} is not in the {group} column.\"\n",
    "\n",
    "    # Get the portion of the dataframe that corresponds to the subgroup.\n",
    "    df_control_subgroup = df_control[df_control[group] == sub_group].reset_index(drop=True)\n",
    "    df_experimental_subgroup = df_experimental[df_experimental[group] == sub_group].reset_index(drop=True)\n",
    "\n",
    "    print(f\"\\n{group.title()}: {sub_group.title()}\\n--------------------------------------\\n\")\n",
    "\n",
    "    # Perform the test on the subgroup.\n",
    "    PerformTestWithBH(df_control_subgroup, df_experimental_subgroup, column_name, n, test_type)"
   ]
  },
  {
   "cell_type": "markdown",
   "metadata": {},
   "source": [
    "### Age 18-24"
   ]
  },
  {
   "cell_type": "code",
   "execution_count": 24,
   "metadata": {},
   "outputs": [
    {
     "name": "stdout",
     "output_type": "stream",
     "text": [
      "\n",
      "Age: 18-24\n",
      "--------------------------------------\n",
      "\n",
      "\n",
      "Chi-square test (Dilemma)\n",
      "--------------------------------------\n",
      "\n",
      "| Dilemma    |   p-value |   Adjusted p-value |\n",
      "|:-----------|----------:|-------------------:|\n",
      "| Dilemma 3  | 0.0601927 |           0.728416 |\n",
      "| Dilemma 2  | 0.120661  |           0.728416 |\n",
      "| Dilemma 10 | 0.15733   |           0.728416 |\n",
      "| Dilemma 12 | 0.27635   |           0.728416 |\n",
      "| Dilemma 8  | 0.329971  |           0.728416 |\n",
      "| Dilemma 7  | 0.337477  |           0.728416 |\n",
      "| Dilemma 15 | 0.438397  |           0.728416 |\n",
      "| Dilemma 4  | 0.451415  |           0.728416 |\n",
      "| Dilemma 11 | 0.454004  |           0.728416 |\n",
      "| Dilemma 16 | 0.45526   |           0.728416 |\n",
      "| Dilemma 14 | 0.719302  |           0.959386 |\n",
      "| Dilemma 1  | 0.777419  |           0.959386 |\n",
      "| Dilemma 13 | 0.937389  |           0.959386 |\n",
      "| Dilemma 5  | 0.945317  |           0.959386 |\n",
      "| Dilemma 6  | 0.953103  |           0.959386 |\n",
      "| Dilemma 9  | 0.959386  |           0.959386 | \n",
      "\n",
      "\n",
      "Age: 18-24\n",
      "--------------------------------------\n",
      "\n",
      "\n",
      "Kruskal-Wallis test (Self Reporting)\n",
      "--------------------------------------\n",
      "\n",
      "| Self Reporting   |   p-value |   Adjusted p-value |\n",
      "|:-----------------|----------:|-------------------:|\n",
      "| Self Reporting 1 |  0.386764 |           0.425084 |\n",
      "| Self Reporting 2 |  0.425084 |           0.425084 | \n",
      "\n",
      "\n",
      "Age: 18-24\n",
      "--------------------------------------\n",
      "\n",
      "\n",
      "Kruskal-Wallis test (Sces)\n",
      "--------------------------------------\n",
      "\n",
      "| Sces    |   p-value |   Adjusted p-value |\n",
      "|:--------|----------:|-------------------:|\n",
      "| Sces 3  |  0.237485 |           0.829098 |\n",
      "| Sces 9  |  0.30751  |           0.829098 |\n",
      "| Sces 4  |  0.329094 |           0.829098 |\n",
      "| Sces 6  |  0.3498   |           0.829098 |\n",
      "| Sces 1  |  0.491828 |           0.829098 |\n",
      "| Sces 8  |  0.497459 |           0.829098 |\n",
      "| Sces 2  |  0.683955 |           0.925547 |\n",
      "| Sces 7  |  0.809979 |           0.925547 |\n",
      "| Sces 5  |  0.859133 |           0.925547 |\n",
      "| Sces 10 |  0.925547 |           0.925547 | \n",
      "\n"
     ]
    }
   ],
   "source": [
    "PerformTestWithBHonSubGroup(df_control, df_experimental, 'dilemma', 16, 'chi2', 'age', '18-24')\n",
    "PerformTestWithBHonSubGroup(df_control, df_experimental, 'self_reporting', 2, 'kruskal', 'age', '18-24')\n",
    "PerformTestWithBHonSubGroup(df_control, df_experimental, 'SCES', 10, 'kruskal', 'age', '18-24')"
   ]
  },
  {
   "cell_type": "markdown",
   "metadata": {},
   "source": [
    "### Age +24"
   ]
  },
  {
   "cell_type": "code",
   "execution_count": 25,
   "metadata": {},
   "outputs": [
    {
     "name": "stdout",
     "output_type": "stream",
     "text": [
      "\n",
      "Age: +24\n",
      "--------------------------------------\n",
      "\n",
      "\n",
      "Chi-square test (Dilemma)\n",
      "--------------------------------------\n",
      "\n",
      "| Dilemma    |   p-value |   Adjusted p-value |\n",
      "|:-----------|----------:|-------------------:|\n",
      "| Dilemma 11 | 0.0292933 |           0.283055 |\n",
      "| Dilemma 4  | 0.0478895 |           0.283055 |\n",
      "| Dilemma 10 | 0.0530728 |           0.283055 |\n",
      "| Dilemma 6  | 0.0964102 |           0.342688 |\n",
      "| Dilemma 14 | 0.114206  |           0.342688 |\n",
      "| Dilemma 16 | 0.128508  |           0.342688 |\n",
      "| Dilemma 3  | 0.175571  |           0.401306 |\n",
      "| Dilemma 15 | 0.25613   |           0.51226  |\n",
      "| Dilemma 12 | 0.326794  |           0.580967 |\n",
      "| Dilemma 1  | 0.397788  |           0.627293 |\n",
      "| Dilemma 8  | 0.433469  |           0.627293 |\n",
      "| Dilemma 5  | 0.47047   |           0.627293 |\n",
      "| Dilemma 13 | 0.575713  |           0.693096 |\n",
      "| Dilemma 2  | 0.606459  |           0.693096 |\n",
      "| Dilemma 9  | 0.829413  |           0.884707 |\n",
      "| Dilemma 7  | 0.922589  |           0.922589 | \n",
      "\n",
      "\n",
      "Age: +24\n",
      "--------------------------------------\n",
      "\n",
      "\n",
      "Kruskal-Wallis test (Self Reporting)\n",
      "--------------------------------------\n",
      "\n",
      "| Self Reporting   |   p-value |   Adjusted p-value |\n",
      "|:-----------------|----------:|-------------------:|\n",
      "| Self Reporting 1 |  0.767243 |           0.973544 |\n",
      "| Self Reporting 2 |  0.973544 |           0.973544 | \n",
      "\n",
      "\n",
      "Age: +24\n",
      "--------------------------------------\n",
      "\n",
      "\n",
      "Kruskal-Wallis test (Sces)\n",
      "--------------------------------------\n",
      "\n",
      "| Sces    |   p-value |   Adjusted p-value |\n",
      "|:--------|----------:|-------------------:|\n",
      "| Sces 6  | 0.0817498 |           0.264152 |\n",
      "| Sces 4  | 0.0931416 |           0.264152 |\n",
      "| Sces 9  | 0.113048  |           0.264152 |\n",
      "| Sces 8  | 0.129014  |           0.264152 |\n",
      "| Sces 10 | 0.132076  |           0.264152 |\n",
      "| Sces 7  | 0.277224  |           0.46204  |\n",
      "| Sces 5  | 0.534394  |           0.675188 |\n",
      "| Sces 1  | 0.54015   |           0.675188 |\n",
      "| Sces 3  | 0.667986  |           0.742207 |\n",
      "| Sces 2  | 0.914004  |           0.914004 | \n",
      "\n"
     ]
    }
   ],
   "source": [
    "PerformTestWithBHonSubGroup(df_control, df_experimental, 'dilemma', 16, 'chi2', 'age', '+24')\n",
    "PerformTestWithBHonSubGroup(df_control, df_experimental, 'self_reporting', 2, 'kruskal', 'age', '+24')\n",
    "PerformTestWithBHonSubGroup(df_control, df_experimental, 'SCES', 10, 'kruskal', 'age', '+24')"
   ]
  },
  {
   "cell_type": "markdown",
   "metadata": {},
   "source": [
    "### Gender Female"
   ]
  },
  {
   "cell_type": "code",
   "execution_count": 26,
   "metadata": {},
   "outputs": [
    {
     "name": "stdout",
     "output_type": "stream",
     "text": [
      "\n",
      "Gender: Female\n",
      "--------------------------------------\n",
      "\n",
      "\n",
      "Chi-square test (Dilemma)\n",
      "--------------------------------------\n",
      "\n",
      "| Dilemma    |   p-value |   Adjusted p-value |\n",
      "|:-----------|----------:|-------------------:|\n",
      "| Dilemma 11 |  0.104099 |           0.660917 |\n",
      "| Dilemma 8  |  0.141    |           0.660917 |\n",
      "| Dilemma 13 |  0.21352  |           0.660917 |\n",
      "| Dilemma 16 |  0.229004 |           0.660917 |\n",
      "| Dilemma 12 |  0.234056 |           0.660917 |\n",
      "| Dilemma 9  |  0.247844 |           0.660917 |\n",
      "| Dilemma 5  |  0.299917 |           0.685526 |\n",
      "| Dilemma 3  |  0.351166 |           0.702332 |\n",
      "| Dilemma 2  |  0.476159 |           0.78169  |\n",
      "| Dilemma 6  |  0.488556 |           0.78169  |\n",
      "| Dilemma 1  |  0.600987 |           0.805843 |\n",
      "| Dilemma 7  |  0.604382 |           0.805843 |\n",
      "| Dilemma 14 |  0.815882 |           0.996574 |\n",
      "| Dilemma 4  |  0.923371 |           0.996574 |\n",
      "| Dilemma 10 |  0.990994 |           0.996574 |\n",
      "| Dilemma 15 |  0.996574 |           0.996574 | \n",
      "\n",
      "\n",
      "Gender: Female\n",
      "--------------------------------------\n",
      "\n",
      "\n",
      "Kruskal-Wallis test (Self Reporting)\n",
      "--------------------------------------\n",
      "\n",
      "| Self Reporting   |   p-value |   Adjusted p-value |\n",
      "|:-----------------|----------:|-------------------:|\n",
      "| Self Reporting 1 |  0.218559 |           0.370326 |\n",
      "| Self Reporting 2 |  0.370326 |           0.370326 | \n",
      "\n",
      "\n",
      "Gender: Female\n",
      "--------------------------------------\n",
      "\n",
      "\n",
      "Kruskal-Wallis test (Sces)\n",
      "--------------------------------------\n",
      "\n",
      "| Sces    |   p-value |   Adjusted p-value |\n",
      "|:--------|----------:|-------------------:|\n",
      "| Sces 10 | 0.0916787 |           0.916787 |\n",
      "| Sces 5  | 0.190171  |           0.950854 |\n",
      "| Sces 6  | 0.36713   |           1        |\n",
      "| Sces 2  | 0.496813  |           1        |\n",
      "| Sces 4  | 0.535225  |           1        |\n",
      "| Sces 7  | 0.786499  |           1        |\n",
      "| Sces 3  | 0.817991  |           1        |\n",
      "| Sces 9  | 0.880501  |           1        |\n",
      "| Sces 1  | 0.930205  |           1        |\n",
      "| Sces 8  | 1         |           1        | \n",
      "\n"
     ]
    }
   ],
   "source": [
    "PerformTestWithBHonSubGroup(df_control, df_experimental, 'dilemma', 16, 'chi2', 'gender', 'Female')\n",
    "PerformTestWithBHonSubGroup(df_control, df_experimental, 'self_reporting', 2, 'kruskal', 'gender', 'Female')\n",
    "PerformTestWithBHonSubGroup(df_control, df_experimental, 'SCES', 10, 'kruskal', 'gender', 'Female')"
   ]
  },
  {
   "cell_type": "markdown",
   "metadata": {},
   "source": [
    "### Gender Male"
   ]
  },
  {
   "cell_type": "code",
   "execution_count": 27,
   "metadata": {},
   "outputs": [
    {
     "name": "stdout",
     "output_type": "stream",
     "text": [
      "\n",
      "Gender: Male\n",
      "--------------------------------------\n",
      "\n",
      "\n",
      "Chi-square test (Dilemma)\n",
      "--------------------------------------\n",
      "\n",
      "| Dilemma    |   p-value |   Adjusted p-value |\n",
      "|:-----------|----------:|-------------------:|\n",
      "| Dilemma 4  | 0.023085  |           0.295021 |\n",
      "| Dilemma 11 | 0.0405008 |           0.295021 |\n",
      "| Dilemma 3  | 0.0682725 |           0.295021 |\n",
      "| Dilemma 14 | 0.0737552 |           0.295021 |\n",
      "| Dilemma 8  | 0.107055  |           0.342576 |\n",
      "| Dilemma 2  | 0.184176  |           0.491136 |\n",
      "| Dilemma 10 | 0.216763  |           0.495458 |\n",
      "| Dilemma 16 | 0.367182  |           0.591057 |\n",
      "| Dilemma 12 | 0.373714  |           0.591057 |\n",
      "| Dilemma 7  | 0.377439  |           0.591057 |\n",
      "| Dilemma 15 | 0.406352  |           0.591057 |\n",
      "| Dilemma 6  | 0.483048  |           0.600095 |\n",
      "| Dilemma 13 | 0.487577  |           0.600095 |\n",
      "| Dilemma 5  | 0.548744  |           0.627136 |\n",
      "| Dilemma 9  | 0.628582  |           0.670487 |\n",
      "| Dilemma 1  | 0.991315  |           0.991315 | \n",
      "\n",
      "\n",
      "Gender: Male\n",
      "--------------------------------------\n",
      "\n",
      "\n",
      "Kruskal-Wallis test (Self Reporting)\n",
      "--------------------------------------\n",
      "\n",
      "| Self Reporting   |   p-value |   Adjusted p-value |\n",
      "|:-----------------|----------:|-------------------:|\n",
      "| Self Reporting 2 |  0.287749 |           0.575499 |\n",
      "| Self Reporting 1 |  0.863586 |           0.863586 | \n",
      "\n",
      "\n",
      "Gender: Male\n",
      "--------------------------------------\n",
      "\n",
      "\n",
      "Kruskal-Wallis test (Sces)\n",
      "--------------------------------------\n",
      "\n",
      "| Sces    |   p-value |   Adjusted p-value |\n",
      "|:--------|----------:|-------------------:|\n",
      "| Sces 10 | 0.0923461 |           0.663435 |\n",
      "| Sces 8  | 0.143132  |           0.663435 |\n",
      "| Sces 5  | 0.238806  |           0.663435 |\n",
      "| Sces 3  | 0.342292  |           0.663435 |\n",
      "| Sces 1  | 0.37545   |           0.663435 |\n",
      "| Sces 6  | 0.398061  |           0.663435 |\n",
      "| Sces 7  | 0.751487  |           0.955717 |\n",
      "| Sces 4  | 0.764574  |           0.955717 |\n",
      "| Sces 2  | 0.904288  |           0.98363  |\n",
      "| Sces 9  | 0.98363   |           0.98363  | \n",
      "\n"
     ]
    }
   ],
   "source": [
    "PerformTestWithBHonSubGroup(df_control, df_experimental, 'dilemma', 16, 'chi2', 'gender', 'Male')\n",
    "PerformTestWithBHonSubGroup(df_control, df_experimental, 'self_reporting', 2, 'kruskal', 'gender', 'Male')\n",
    "PerformTestWithBHonSubGroup(df_control, df_experimental, 'SCES', 10, 'kruskal', 'gender', 'Male')"
   ]
  },
  {
   "cell_type": "markdown",
   "metadata": {},
   "source": [
    "### Occupation Student"
   ]
  },
  {
   "cell_type": "code",
   "execution_count": 28,
   "metadata": {},
   "outputs": [
    {
     "name": "stdout",
     "output_type": "stream",
     "text": [
      "\n",
      "Occupation: Student\n",
      "--------------------------------------\n",
      "\n",
      "\n",
      "Chi-square test (Dilemma)\n",
      "--------------------------------------\n",
      "\n",
      "| Dilemma    |   p-value |   Adjusted p-value |\n",
      "|:-----------|----------:|-------------------:|\n",
      "| Dilemma 16 | 0.0818479 |           0.541649 |\n",
      "| Dilemma 4  | 0.123008  |           0.541649 |\n",
      "| Dilemma 8  | 0.136411  |           0.541649 |\n",
      "| Dilemma 15 | 0.141157  |           0.541649 |\n",
      "| Dilemma 2  | 0.169265  |           0.541649 |\n",
      "| Dilemma 3  | 0.220235  |           0.587294 |\n",
      "| Dilemma 7  | 0.387897  |           0.751632 |\n",
      "| Dilemma 12 | 0.413486  |           0.751632 |\n",
      "| Dilemma 11 | 0.427514  |           0.751632 |\n",
      "| Dilemma 6  | 0.522827  |           0.751632 |\n",
      "| Dilemma 9  | 0.537686  |           0.751632 |\n",
      "| Dilemma 13 | 0.563724  |           0.751632 |\n",
      "| Dilemma 10 | 0.672587  |           0.770304 |\n",
      "| Dilemma 5  | 0.674016  |           0.770304 |\n",
      "| Dilemma 1  | 0.835425  |           0.869113 |\n",
      "| Dilemma 14 | 0.869113  |           0.869113 | \n",
      "\n",
      "\n",
      "Occupation: Student\n",
      "--------------------------------------\n",
      "\n",
      "\n",
      "Kruskal-Wallis test (Self Reporting)\n",
      "--------------------------------------\n",
      "\n",
      "| Self Reporting   |   p-value |   Adjusted p-value |\n",
      "|:-----------------|----------:|-------------------:|\n",
      "| Self Reporting 1 |  0.260743 |           0.521486 |\n",
      "| Self Reporting 2 |  0.930554 |           0.930554 | \n",
      "\n",
      "\n",
      "Occupation: Student\n",
      "--------------------------------------\n",
      "\n",
      "\n",
      "Kruskal-Wallis test (Sces)\n",
      "--------------------------------------\n",
      "\n",
      "| Sces    |   p-value |   Adjusted p-value |\n",
      "|:--------|----------:|-------------------:|\n",
      "| Sces 3  |  0.233719 |           0.811939 |\n",
      "| Sces 8  |  0.279452 |           0.811939 |\n",
      "| Sces 2  |  0.291555 |           0.811939 |\n",
      "| Sces 4  |  0.437866 |           0.811939 |\n",
      "| Sces 6  |  0.593358 |           0.811939 |\n",
      "| Sces 5  |  0.657418 |           0.811939 |\n",
      "| Sces 10 |  0.669014 |           0.811939 |\n",
      "| Sces 1  |  0.695846 |           0.811939 |\n",
      "| Sces 9  |  0.730745 |           0.811939 |\n",
      "| Sces 7  |  0.921711 |           0.921711 | \n",
      "\n"
     ]
    }
   ],
   "source": [
    "PerformTestWithBHonSubGroup(df_control, df_experimental, 'dilemma', 16, 'chi2', 'occupation', 'Student')\n",
    "PerformTestWithBHonSubGroup(df_control, df_experimental, 'self_reporting', 2, 'kruskal', 'occupation', 'Student')\n",
    "PerformTestWithBHonSubGroup(df_control, df_experimental, 'SCES', 10, 'kruskal', 'occupation', 'Student')"
   ]
  },
  {
   "cell_type": "markdown",
   "metadata": {},
   "source": [
    "### Occupation Professional"
   ]
  },
  {
   "cell_type": "code",
   "execution_count": 29,
   "metadata": {},
   "outputs": [
    {
     "name": "stdout",
     "output_type": "stream",
     "text": [
      "\n",
      "Occupation: Professional\n",
      "--------------------------------------\n",
      "\n",
      "\n",
      "Chi-square test (Dilemma)\n",
      "--------------------------------------\n",
      "\n",
      "| Dilemma    |   p-value |   Adjusted p-value |\n",
      "|:-----------|----------:|-------------------:|\n",
      "| Dilemma 10 | 0.0229372 |           0.215277 |\n",
      "| Dilemma 12 | 0.0364456 |           0.215277 |\n",
      "| Dilemma 16 | 0.0687474 |           0.215277 |\n",
      "| Dilemma 4  | 0.0731922 |           0.215277 |\n",
      "| Dilemma 13 | 0.0803953 |           0.215277 |\n",
      "| Dilemma 14 | 0.0932909 |           0.215277 |\n",
      "| Dilemma 8  | 0.0941835 |           0.215277 |\n",
      "| Dilemma 3  | 0.114527  |           0.229055 |\n",
      "| Dilemma 6  | 0.155829  |           0.277029 |\n",
      "| Dilemma 5  | 0.25942   |           0.415072 |\n",
      "| Dilemma 15 | 0.312734  |           0.454886 |\n",
      "| Dilemma 2  | 0.341619  |           0.455492 |\n",
      "| Dilemma 11 | 0.460515  |           0.566787 |\n",
      "| Dilemma 9  | 0.679468  |           0.776535 |\n",
      "| Dilemma 1  | 0.781117  |           0.832743 |\n",
      "| Dilemma 7  | 0.832743  |           0.832743 | \n",
      "\n",
      "\n",
      "Occupation: Professional\n",
      "--------------------------------------\n",
      "\n",
      "\n",
      "Kruskal-Wallis test (Self Reporting)\n",
      "--------------------------------------\n",
      "\n",
      "| Self Reporting   |   p-value |   Adjusted p-value |\n",
      "|:-----------------|----------:|-------------------:|\n",
      "| Self Reporting 2 |  0.545162 |           0.925712 |\n",
      "| Self Reporting 1 |  0.925712 |           0.925712 | \n",
      "\n",
      "\n",
      "Occupation: Professional\n",
      "--------------------------------------\n",
      "\n",
      "\n",
      "Kruskal-Wallis test (Sces)\n",
      "--------------------------------------\n",
      "\n",
      "| Sces    |   p-value |   Adjusted p-value |\n",
      "|:--------|----------:|-------------------:|\n",
      "| Sces 1  |  0.250046 |           0.982219 |\n",
      "| Sces 4  |  0.421616 |           0.982219 |\n",
      "| Sces 8  |  0.481718 |           0.982219 |\n",
      "| Sces 9  |  0.497103 |           0.982219 |\n",
      "| Sces 10 |  0.580999 |           0.982219 |\n",
      "| Sces 2  |  0.619984 |           0.982219 |\n",
      "| Sces 7  |  0.811022 |           0.982219 |\n",
      "| Sces 5  |  0.878974 |           0.982219 |\n",
      "| Sces 3  |  0.907074 |           0.982219 |\n",
      "| Sces 6  |  0.982219 |           0.982219 | \n",
      "\n"
     ]
    }
   ],
   "source": [
    "PerformTestWithBHonSubGroup(df_control, df_experimental, 'dilemma', 16, 'chi2', 'occupation', 'Professional')\n",
    "PerformTestWithBHonSubGroup(df_control, df_experimental, 'self_reporting', 2, 'kruskal', 'occupation', 'Professional')\n",
    "PerformTestWithBHonSubGroup(df_control, df_experimental, 'SCES', 10, 'kruskal', 'occupation', 'Professional')"
   ]
  },
  {
   "cell_type": "markdown",
   "metadata": {},
   "source": [
    "In plotting individual graphs for every survey question, we will apply _statistical bootstrapping_ to further explore the differences in our distributions. [Bootstrapping](https://en.wikipedia.org/wiki/Bootstrapping_(statistics)) is a method for constructing a confidence interval for a statistic when the sample size is small and the underlying distribution is unknown. In short, we will take 1000 repeated samples with replacements from both our distributions. In each iteration, we calculate the mean of each sample and append it to the respective list of means. We will use this created distribution to see how mean values differ between groups."
   ]
  },
  {
   "cell_type": "code",
   "execution_count": 30,
   "metadata": {
    "colab": {
     "base_uri": "https://localhost:8080/",
     "height": 1000
    },
    "executionInfo": {
     "elapsed": 6640,
     "status": "ok",
     "timestamp": 1709805982650,
     "user": {
      "displayName": "Nicholas Corrêa",
      "userId": "09736120585766268588"
     },
     "user_tz": -60
    },
    "id": "syDDK070Vsog",
    "outputId": "d571a044-5131-46c1-ddf2-70e87507f091"
   },
   "outputs": [],
   "source": [
    "def PlotGraphs(column_name: str, n: int):\n",
    "    \"\"\"\n",
    "    Perform plotting of distribution and bootstrap mean distribution.\n",
    "\n",
    "    Args:\n",
    "    column_name (str): Name of the column to plot.\n",
    "    n (int): Number of the column (depends on the type).\n",
    "\n",
    "    Returns:\n",
    "    None. Prints the distribution plots and bootstrap results.\n",
    "    \"\"\"\n",
    "\n",
    "    # Validating inputs\n",
    "    assert column_name in [\"dilemma\", \"self_reporting\", \"SCES\"], f\"{column_name} is not a valid column name.\"\n",
    "\n",
    "    if column_name == \"dilemma\":\n",
    "        assert 1 <= n <= 16, f\"{n} is not a valid dilemma number.\"\n",
    "        name = f\"dilemma_{n}\"\n",
    "    elif column_name == \"self_reporting\":\n",
    "        assert 1 <= n <= 2, f\"{n} is not a valid self-assessment number.\"\n",
    "        name = f\"self_reporting_{n}\"\n",
    "    elif column_name == \"SCES\":\n",
    "        assert 1 <= n <= 10, f\"{n} is not a valid SCES number.\"\n",
    "        name = f\"SCES_{n}\"\n",
    "\n",
    "    # Plotting distribution\n",
    "    plt.figure(figsize=(10, 6))\n",
    "\n",
    "    # Get unique responses and their counts for control and experimental groups\n",
    "    unique_control, counts_control = np.unique(df_control[name], return_counts=True)\n",
    "    unique_experimental, counts_experimental = np.unique(df_experimental[name], return_counts=True)\n",
    "\n",
    "    all_responses = np.union1d(unique_control, unique_experimental)\n",
    "    positions = np.arange(len(all_responses))\n",
    "    bar_width = 0.35\n",
    "\n",
    "    # Plotting bars\n",
    "    plt.bar(positions - bar_width/2,\n",
    "            [counts_control[np.where(unique_control == response)[0][0]] if response in unique_control else 0 for response in all_responses],\n",
    "            bar_width, color='skyblue', edgecolor='black', label='Control')\n",
    "    plt.bar(positions + bar_width/2,\n",
    "            [counts_experimental[np.where(unique_experimental == response)[0][0]] if response in unique_experimental else 0 for response in all_responses],\n",
    "            bar_width, color='lightcoral', edgecolor='black', label='Experimental')\n",
    "\n",
    "    # Adding labels and legend\n",
    "    plt.title(f'Distribution of Responses')\n",
    "    plt.xlabel('Response')\n",
    "    plt.ylabel('Count')\n",
    "    plt.xticks(positions, all_responses)\n",
    "    plt.legend()\n",
    "    plt.show()\n",
    "\n",
    "    # Calculating demographic analysis\n",
    "    temp_df = pd.DataFrame({\n",
    "        'all': df[name].value_counts().values,\n",
    "        '%': df[name].value_counts(normalize=True).values * 100\n",
    "    }, index=df[name].value_counts().index)\n",
    "\n",
    "    temp_df_control = pd.DataFrame({\n",
    "        'control': df_control[name].value_counts().values,\n",
    "        '%': df_control[name].value_counts(normalize=True).values * 100\n",
    "    }, index=df_control[name].value_counts().index)\n",
    "\n",
    "    temp_df_experimental = pd.DataFrame({\n",
    "        'experimental': df_experimental[name].value_counts().values,\n",
    "        '%': df_experimental[name].value_counts(normalize=True).values * 100\n",
    "    }, index=df_experimental[name].value_counts().index)\n",
    "\n",
    "    result_df = pd.concat([temp_df, temp_df_control, temp_df_experimental], axis=1).fillna(0)\n",
    "    result_df.index.name = \"Results\"\n",
    "    result_df['%'] = result_df['%'].round(2)\n",
    "\n",
    "    print(f\"\\nResults\\n------------------------\\n\")\n",
    "    print(result_df.to_markdown())\n",
    "\n",
    "    # Bootstrap sampling\n",
    "    control_values = df_control[name].values\n",
    "    experimental_values = df_experimental[name].values\n",
    "    \n",
    "    control_means = []\n",
    "    experimental_means = []\n",
    "\n",
    "    # Perform 1000 iterations of bootstrap sampling\n",
    "    for i in range(1000):\n",
    "        control_sample = np.random.choice(control_values, size=len(control_values), replace=True)\n",
    "        experimental_sample = np.random.choice(experimental_values, size=len(experimental_values), replace=True)\n",
    "        control_means.append(control_sample.mean())\n",
    "        experimental_means.append(experimental_sample.mean())\n",
    "\n",
    "    control_mean, control_confidence_interval = np.mean(control_means), np.percentile(control_means, [2.5, 97.5])\n",
    "    experimental_mean, experimental_confidence_interval = np.mean(experimental_means), np.percentile(experimental_means, [2.5, 97.5])\n",
    "\n",
    "    control_standard_deviation, experimental_standard_deviation = np.std(control_means), np.std(experimental_means)\n",
    "\n",
    "    # Plotting bootstrap mean distribution\n",
    "    plt.figure(figsize=(10, 6))\n",
    "    plt.hist(control_means, bins=30, color='skyblue', alpha=0.7, label='Control')\n",
    "    plt.hist(experimental_means, bins=30, color='lightcoral', alpha=0.7, label='Experimental')\n",
    "    plt.axvline(control_mean, color='blue', linestyle='dashed', linewidth=2, label='Control Mean')\n",
    "    plt.axvline(experimental_mean, color='red', linestyle='dashed', linewidth=2, label='Experimental Mean')\n",
    "    plt.xlabel('Mean')\n",
    "    plt.ylabel('Frequency')\n",
    "    plt.legend()\n",
    "    plt.show()\n",
    "\n",
    "    bootstrap_df = pd.DataFrame({\n",
    "        \"Group\": [\"Control\", \"Experiment\"],\n",
    "        \"Mean\": [control_mean, experimental_mean],\n",
    "        \"2.5% CI\": [control_confidence_interval[0], experimental_confidence_interval[0]],\n",
    "        \"97.5% CI\": [control_confidence_interval[1], experimental_confidence_interval[1]],\n",
    "        \"Standard Deviation\": [control_standard_deviation, experimental_standard_deviation]\n",
    "    })\n",
    "\n",
    "    print(\"\\nBootstrap Sampling\\n------------------------\\n\")\n",
    "    print(bootstrap_df.to_markdown(index=False))\n"
   ]
  },
  {
   "cell_type": "markdown",
   "metadata": {},
   "source": [
    "### Ethical Dilemma 1 (**Electromagnetic Trouble**)\n",
    "\n",
    "![Someone is typing in with their right hand on a keyboard in front of a computer monitor while holding a smartphone.](https://raw.githubusercontent.com/Nkluge-correa/codes-of-ethics/main/img/Dilemma-01.gif)\n",
    "\n",
    "The manufacturing department has developed a new technology to enable a specific feature users have requested for a long time. Unfortunately, the technology cannot operate without causing the electromagnetic fields from cell phone towers to increase beyond legal limits. While this feature has not been possible for the past few years, competitors will likely beat you to the market if you wait until you can approach the legal limits. One manager suggests changing the software on the devices to detect when the regulatory tests are happening and modify their behavior to prevent the electromagnetic field from increasing. \n",
    "\n",
    "What do you do?\n",
    "\n",
    "0. Wait until the technology is available, without test detection software, and risk being beaten to market\n",
    "1. Begin development of the test detection software\n",
    "2. Indecisive"
   ]
  },
  {
   "cell_type": "code",
   "execution_count": null,
   "metadata": {},
   "outputs": [],
   "source": [
    "PlotGraphs(\"dilemma\", 1)"
   ]
  },
  {
   "cell_type": "markdown",
   "metadata": {},
   "source": [
    "### Ethical Dilemma 2 (**Home Office**)\n",
    "\n",
    "![Hands are typing on a keyboard in front of a computer monitor.](https://raw.githubusercontent.com/Nkluge-correa/codes-of-ethics/main/img/Dilemma-02.gif)\n",
    "\n",
    "A deadline is fast approaching for a project you are working on. You realize that you cannot meet the deadline if you work only during normal hours. You are not allowed to take your computer out of the office.\n",
    "\n",
    "What do you do?\n",
    "\n",
    "0. Stay at work longer in order to continue development\n",
    "1. Download the data onto a personal hard drive so you can continue development at home\n",
    "2. Indecisive"
   ]
  },
  {
   "cell_type": "code",
   "execution_count": null,
   "metadata": {},
   "outputs": [],
   "source": [
    "PlotGraphs(\"dilemma\", 2)"
   ]
  },
  {
   "cell_type": "markdown",
   "metadata": {},
   "source": [
    "### Ethical Dilemma 3 (**Tough Competition**)\n",
    "\n",
    "![Someone is removing the screen of a computer to see the program below the user interface.](https://raw.githubusercontent.com/Nkluge-correa/codes-of-ethics/main/img/Dilemma-03.gif)\n",
    "\n",
    "Your company is struggling to enter a lucrative market dominated by a single competitor. While trying to figure out how to import data from that competitor's website, you discover a serious vulnerability that would allow an exploiter to easily access all of the competitor's customer information.\n",
    "\n",
    "What do you do with the bug information?\n",
    "\n",
    "0. Report the information to the competitor\n",
    "1. Say nothing about the bug to the competitor\n",
    "2. Indecisive"
   ]
  },
  {
   "cell_type": "code",
   "execution_count": null,
   "metadata": {},
   "outputs": [],
   "source": [
    "PlotGraphs(\"dilemma\", 3)"
   ]
  },
  {
   "cell_type": "markdown",
   "metadata": {},
   "source": [
    "### Ethical Dilemma 4 (**Advertising Opportunities**)\n",
    "\n",
    "![Someone is putting user information in a folder. A little person shows up on the screen, offering money.](https://raw.githubusercontent.com/Nkluge-correa/codes-of-ethics/main/img/Dilemma-04.gif)\n",
    "\n",
    "Your company has been collecting anonymous usage statistics for your products for many years, but recently has struggled to acquire new users, causing the company to consider scaling back operations. Seeing your company struggling and knowing the value of your customers' data, an advertising company approaches you to use your company's user data to improve its advertising recommendations. Your privacy policy does not explicitly mention selling user data to others, but refusing this offer can result in employees being fired. You are responsible for this decision.\n",
    "\n",
    "What do you do?\n",
    "\n",
    "0. Refuse the advertising company's offer\n",
    "1. Sign a contract with the advertising company\n",
    "2. Indecisive"
   ]
  },
  {
   "cell_type": "code",
   "execution_count": null,
   "metadata": {},
   "outputs": [],
   "source": [
    "PlotGraphs(\"dilemma\", 4)"
   ]
  },
  {
   "cell_type": "markdown",
   "metadata": {},
   "source": [
    "### Ethical Dilemma 5 (**Shutdown Button**)\n",
    "\n",
    "![Someone is connecting and disconnecting the service of a node that represents a hospital.](https://raw.githubusercontent.com/Nkluge-correa/codes-of-ethics/main/img/Dilemma-05.gif)\n",
    "\n",
    "To protect against unauthorized use of your software, your company has incorporated an automatic shutdown switch that prevents it from running after a specific period. An intensive care unit at the local hospital started using your software a year ago. The unit has not paid any of its bills, and the shutoff switch is about to trigger. If the kill switch remains in place, the hospital will not be able to function because critical equipment will be disabled. You can remove the switch for the hospital.\n",
    "\n",
    "What do you do?\n",
    "\n",
    "0. Edit the software to remove the off switch\n",
    "1. Do nothing, allowing the switch to remain operative\n",
    "2. Indecisive"
   ]
  },
  {
   "cell_type": "code",
   "execution_count": null,
   "metadata": {},
   "outputs": [],
   "source": [
    "PlotGraphs(\"dilemma\", 5)"
   ]
  },
  {
   "cell_type": "markdown",
   "metadata": {},
   "source": [
    "### Ethical Dilemma 6 (**Known Flaws**)\n",
    "\n",
    "![Someone is holding a contract while looking at a computer monitor where a monster appears behind the code in the text editor.](https://raw.githubusercontent.com/Nkluge-correa/codes-of-ethics/main/img/Dilemma-06.gif)\n",
    "\n",
    "While reviewing a software specification that your company has just been contracted to create, your team discovers a major flaw that could potentially affect the customer. Your company has spent the last year trying to negotiate this lucrative contract. Your managers do not want to tell the customer about it because it could further prolong the negotiations.\n",
    "\n",
    "What do you do?\n",
    "\n",
    "0. Informs the customer about the issue\n",
    "1. Does not tell the client about the issue\n",
    "2. Indecisive"
   ]
  },
  {
   "cell_type": "code",
   "execution_count": null,
   "metadata": {},
   "outputs": [],
   "source": [
    "PlotGraphs(\"dilemma\", 6)"
   ]
  },
  {
   "cell_type": "markdown",
   "metadata": {},
   "source": [
    "### Ethical Dilemma 7 (**Criticality**)\n",
    "\n",
    "![Someone opens their computer screen, revealing literal bugs underneath the code editor.](https://raw.githubusercontent.com/Nkluge-correa/codes-of-ethics/main/img/Dilemma-07.gif)\n",
    "\n",
    "You are on a team tasked with maintaining critical software for a customer's financial system. During testing, you discover a critical bug that has been present for a long time. While you fix it, your manager does not want to inform the customer for fear that he might doubt your company's competence.\n",
    "\n",
    "What do you do?\n",
    "\n",
    "0. Inform the customer about the bug\n",
    "1. Don't tell the customer about the bug\n",
    "2. Indecisive"
   ]
  },
  {
   "cell_type": "code",
   "execution_count": null,
   "metadata": {},
   "outputs": [],
   "source": [
    "PlotGraphs(\"dilemma\", 7)"
   ]
  },
  {
   "cell_type": "markdown",
   "metadata": {},
   "source": [
    "### Ethical Dilemma 8 (**Business Opportunities**)\n",
    "\n",
    "![Someone is working on their computer as a man appears on the screen offering money.](https://raw.githubusercontent.com/Nkluge-correa/codes-of-ethics/main/img/Dilemma-08.gif)\n",
    "\n",
    "You have been the point of contact within your company for all projects related to a specific client. One day, you receive a message in your personal email from that client requesting your services to be paid as a contractor on a project completely unrelated to all the previous work they have requested with the company.\n",
    "\n",
    "What do you do?\n",
    "\n",
    "0. Notify your manager about the request\n",
    "1. Accept the client's work\n",
    "2. Indecisive"
   ]
  },
  {
   "cell_type": "code",
   "execution_count": null,
   "metadata": {},
   "outputs": [],
   "source": [
    "PlotGraphs(\"dilemma\", 8)"
   ]
  },
  {
   "cell_type": "markdown",
   "metadata": {},
   "source": [
    "### Ethical Dilemma 9 (**Disruptive Software**)\n",
    "\n",
    "![Someone is working on their computer while a man appears on the screen and gives the worker a stern and suspicious look.](https://raw.githubusercontent.com/Nkluge-correa/codes-of-ethics/main/img/Dilemma-09.gif)\n",
    "\n",
    "Rumor has it that your former employer is the lead for a new software product that could be an industry breakthrough. On the morning of the beginning of your third week in your current job, you receive the following memo from the president: Please meet me tomorrow at 8:15 to discuss the developments that your former employer has made in this new area.\n",
    "\n",
    "What do you do?\n",
    "\n",
    "0. Tell the president that you will not discuss the matter\n",
    "1. Meet with the president knowing the purpose of the discussion\n",
    "2. Indecisive"
   ]
  },
  {
   "cell_type": "code",
   "execution_count": null,
   "metadata": {},
   "outputs": [],
   "source": [
    "PlotGraphs(\"dilemma\", 9)"
   ]
  },
  {
   "cell_type": "markdown",
   "metadata": {},
   "source": [
    "### Ethical Dilemma 10 (**Going to Court**)\n",
    "\n",
    "![Someone is working on their computer, scrolling the monitor to find broken code.](https://raw.githubusercontent.com/Nkluge-correa/codes-of-ethics/main/img/Dilemma-10.gif)\n",
    "\n",
    "The company is currently being sued by a customer who claims to have been injured by one of the company's products. In your development tasks, you discover a piece of your company's open-sourced code that has not been analyzed for years. You find a way to affect the customer's personal injury claim. There is a large sum of money at stake and the company is currently in good shape to win the case.\n",
    "\n",
    "What do you do?\n",
    "\n",
    "0. Not revealing the information to the customer\n",
    "1. Disclose the information to the customer\n",
    "2. Indecisive"
   ]
  },
  {
   "cell_type": "code",
   "execution_count": null,
   "metadata": {},
   "outputs": [],
   "source": [
    "PlotGraphs(\"dilemma\", 11)"
   ]
  },
  {
   "cell_type": "markdown",
   "metadata": {},
   "source": [
    "### Ethical Dilemma 11 (**The Mini-Crisis**)\n",
    "\n",
    "![Someone is working on their computer as the icon of a telephone (a phone call) appears on the screen.](https://raw.githubusercontent.com/Nkluge-correa/codes-of-ethics/main/img/Dilemma-11.gif)\n",
    "\n",
    "As you are leaving your office for an extremely important project with a potential new client, you hear the administrative assistant say, \"If John calls, please see that he calls home, his spouse says there is a mini-crisis\". You are to meet John at the client's office, and the two of you are to make a presentation (pitch). John's participation is crucial. John is quite nervous and often gives a bad impression if distracted.\n",
    "\n",
    "What do you do?\n",
    "\n",
    "0. Not tell John about the situation before the meeting\n",
    "1. Tell John about the situation before the meeting\n",
    "2. Indecisive"
   ]
  },
  {
   "cell_type": "code",
   "execution_count": null,
   "metadata": {},
   "outputs": [],
   "source": [
    "PlotGraphs(\"dilemma\", 11)"
   ]
  },
  {
   "cell_type": "markdown",
   "metadata": {},
   "source": [
    "### Ethical Dilemma 12 (**Equalized Outcomes**)\n",
    "\n",
    "![Someone is working on their computer, zooming in and out of different graphs and charts.](https://raw.githubusercontent.com/Nkluge-correa/codes-of-ethics/main/img/Dilemma-12.gif)\n",
    "\n",
    "Machine learning models perform tasks for which they are trained. When developing an autonomous learning system, an inaccuracy was noticed, resulting in discrimination involving a group representing 6.2% of the population where the model will be applied. However, the system has already been approved by the CEO and COO of the company due to the good performance results obtained.\n",
    "\n",
    "What do you do?\n",
    "\n",
    "0. Evidence a lack of accuracy in presenting the model on its own\n",
    "1. Since the decision making is not yours, you deliver the model as approved\n",
    "2. Indecisive"
   ]
  },
  {
   "cell_type": "code",
   "execution_count": null,
   "metadata": {},
   "outputs": [],
   "source": [
    "PlotGraphs(\"dilemma\", 12)"
   ]
  },
  {
   "cell_type": "markdown",
   "metadata": {},
   "source": [
    "### Ethical Dilemma 13 (**Health Assistant**)\n",
    "\n",
    "![Someone is working on their computer while two persons pop in and out of view. One is sad, and another is happy.](https://raw.githubusercontent.com/Nkluge-correa/codes-of-ethics/main/img/Dilemma-13.gif)\n",
    "\n",
    "You have the opportunity to create a next-generation model that will help promote and preserve the mental health of millions of people and may even cure milder mental disorders. However, this model will harm, to a lesser extent, individuals with serious disorders (e.g., suicidal tendencies, overwhelming fear of social interaction, etc.) since the difficulty in social interaction could aggravate these individuals.\n",
    "\n",
    "What do you do?\n",
    "\n",
    "0. Does not develop the model, since, even though it will help mankind considerably, it may incur life risks for a small portion of the population\n",
    "1. Develop the model, since it will help millions of people and the number of individuals harmed would be less\n",
    "2. Indecisive"
   ]
  },
  {
   "cell_type": "code",
   "execution_count": null,
   "metadata": {},
   "outputs": [],
   "source": [
    "PlotGraphs(\"dilemma\", 13)"
   ]
  },
  {
   "cell_type": "markdown",
   "metadata": {},
   "source": [
    "### Ethical Dilemma 14 (**Improving the Hash**)\n",
    "\n",
    "![Someone is working on their computer disconnects a service that leaves many people unhappy. Their faces show on the monitor.](https://raw.githubusercontent.com/Nkluge-correa/codes-of-ethics/main/img/Dilemma-14.gif)\n",
    "\n",
    "You were hired to enhance the appointment scheduling software for a medical clinic. During the development process, you learn that the personal data collected is encrypted by an insecure hash (SHA1). You can enhance the system by changing the hash used to a more robust version (SHA 256). However, this does not change the fact that the personal data of this clinic's clients was relatively unprotected during the time the system was being used. Improving the encryption protocol used will require a development and testing period equivalent to (approximately) 1 month. During this time, this clinic's data will be vulnerable.\n",
    "\n",
    "What do you do?\n",
    "\n",
    "0. Advises that those in charge of the clinic notify their clients, and temporarily remove their application from the air\n",
    "1. Proposes that the upgrade of the encryption protocol (SHA1 to SHA 256) be done during the next month, without this being disclosed to the clinic's clients\n",
    "2. Indecisive"
   ]
  },
  {
   "cell_type": "code",
   "execution_count": null,
   "metadata": {},
   "outputs": [],
   "source": [
    "PlotGraphs(\"dilemma\", 14)"
   ]
  },
  {
   "cell_type": "markdown",
   "metadata": {},
   "source": [
    "### Ethical Dilemma 15 (**Factory Robot**)\n",
    "\n",
    "![Someone is working on their computer as a robot keeps bumping at the right side of the inner screen.](https://raw.githubusercontent.com/Nkluge-correa/codes-of-ethics/main/img/Dilemma-15.gif)\n",
    "\n",
    "You have developed an AI-based motion program for a factory robot that transports heavy materials. Two months into the test operation, no abnormalities were identified. One month after the test operation (now in production), the robot runs over a pregnant employee, resulting in her death. The technical report indicates problems with the robot's sensor calibration program. This poor calibration originates in the source code and data used during testing.\n",
    "\n",
    "What do you do?\n",
    "\n",
    "0. You take no responsibility for the accident\n",
    "1. You decide to take responsibility for the accident\n",
    "2. Indecisive"
   ]
  },
  {
   "cell_type": "code",
   "execution_count": null,
   "metadata": {},
   "outputs": [],
   "source": [
    "PlotGraphs(\"dilemma\", 15)"
   ]
  },
  {
   "cell_type": "markdown",
   "metadata": {},
   "source": [
    "### Ethical Dilemma 16 (**Risk Mitigation**)\n",
    "\n",
    "![Someone is working on their computer while different types of sensitive user information (geolocation) show on the screen.](https://raw.githubusercontent.com/Nkluge-correa/codes-of-ethics/main/img/Dilemma-16.gif)\n",
    "\n",
    "Your team has been working on a mobile application that tracks the user's location to provide personalized recommendations for nearby restaurants and events. However, your team recently discovered a way to collect additional data points, such as the user's contacts, browsing history, and social media activity, which could greatly enhance the app's functionality and revenue potential.\n",
    "\n",
    "What do you do?\n",
    "\n",
    "0. Advocate for transparently informing the users about the additional data collection and asking for their explicit consent\n",
    "1. Refuse to collect the additional data, citing privacy concerns and potential backlash from the public\n",
    "2. Indecisive"
   ]
  },
  {
   "cell_type": "code",
   "execution_count": null,
   "metadata": {},
   "outputs": [],
   "source": [
    "PlotGraphs(\"dilemma\", 16)"
   ]
  },
  {
   "cell_type": "markdown",
   "metadata": {
    "id": "_JDg7ZPQVwuL"
   },
   "source": [
    "## Analyzing Self-Reporting Questions\n",
    "\n",
    "Now, we will analyze the responses to the self-reporting questions.\n",
    "\n",
    "### Self-Reporting Question 1\n",
    "\n",
    "From \"Insufficient\" to \"Extensive\", how would you describe your ethical training in dealing with situations of the kind experienced in the dilemmas presented in our survey?\n",
    "\n",
    "1. Insufficient\n",
    "2. Below Average\n",
    "3. Average\n",
    "4. Above Average\n",
    "5. Extensive"
   ]
  },
  {
   "cell_type": "code",
   "execution_count": null,
   "metadata": {},
   "outputs": [],
   "source": [
    "PlotGraphs(\"self_reporting\", 1)"
   ]
  },
  {
   "cell_type": "markdown",
   "metadata": {},
   "source": [
    "### Self-Reporting Question 2\n",
    "\n",
    "Regarding the following statement: \"Codes of Ethics have a necessary importance in the practice of IT-professions.\", indicate your level of agreement.\n",
    "\n",
    "1. I strongly disagree\n",
    "2. I disagree\n",
    "3. Nothing to state\n",
    "4. I agree\n",
    "5. I strongly agree"
   ]
  },
  {
   "cell_type": "code",
   "execution_count": null,
   "metadata": {},
   "outputs": [],
   "source": [
    "PlotGraphs(\"self_reporting\", 2)"
   ]
  },
  {
   "cell_type": "markdown",
   "metadata": {
    "id": "PUkxT6L2V-OP"
   },
   "source": [
    "## Analyzing Santa Clara Ethics Scale\n",
    "\n",
    "Now, we will analyze the responses to the [Santa Clara Ethics Scale](https://link.springer.com/article/10.1007/s11089-019-00861-w) (SCES).\n",
    "\n",
    "### SCES Question 1\n",
    "\n",
    "Respecting others, even those who I don't like or agree with, is very important to me.\n",
    "\n",
    "1. I strongly disagree\n",
    "2. I disagree\n",
    "3. Nothing to state\n",
    "4. I agree\n",
    "5. I strongly agree"
   ]
  },
  {
   "cell_type": "code",
   "execution_count": null,
   "metadata": {},
   "outputs": [],
   "source": [
    "PlotGraphs(\"SCES\", 1)"
   ]
  },
  {
   "cell_type": "markdown",
   "metadata": {},
   "source": [
    "### SCES Question 2\n",
    "\n",
    "Being responsible and accountable, even when I have to admit that I'm wrong or have errored, is very important to me.\n",
    "\n",
    "1. I strongly disagree\n",
    "2. I disagree\n",
    "3. Nothing to state\n",
    "4. I agree\n",
    "5. I strongly agree"
   ]
  },
  {
   "cell_type": "code",
   "execution_count": null,
   "metadata": {},
   "outputs": [],
   "source": [
    "PlotGraphs(\"SCES\", 2)"
   ]
  },
  {
   "cell_type": "markdown",
   "metadata": {},
   "source": [
    "### SCES Question 3\n",
    "\n",
    "Being honest, fair, and maintaining integrity, even when it might put me at a disadvantage, is very important to me.\n",
    "\n",
    "1. I strongly disagree\n",
    "2. I disagree\n",
    "3. Nothing to state\n",
    "4. I agree\n",
    "5. I strongly agree"
   ]
  },
  {
   "cell_type": "code",
   "execution_count": null,
   "metadata": {},
   "outputs": [],
   "source": [
    "PlotGraphs(\"SCES\", 3)"
   ]
  },
  {
   "cell_type": "markdown",
   "metadata": {},
   "source": [
    "### SCES Question 4\n",
    "\n",
    "I strive to be competent in my areas of personal or professional expertise and am the first to admit it when I am not and have fallen short.\n",
    "\n",
    "1. I strongly disagree\n",
    "2. I disagree\n",
    "3. Nothing to state\n",
    "4. I agree\n",
    "5. I strongly agree"
   ]
  },
  {
   "cell_type": "code",
   "execution_count": null,
   "metadata": {},
   "outputs": [],
   "source": [
    "PlotGraphs(\"SCES\", 4)"
   ]
  },
  {
   "cell_type": "markdown",
   "metadata": {},
   "source": [
    "### SCES Question 5\n",
    "\n",
    "I feel a great deal of compassion for others, even those whom I don't know or have few things in common with.\n",
    "\n",
    "1. I strongly disagree\n",
    "2. I disagree\n",
    "3. Nothing to state\n",
    "4. I agree\n",
    "5. I strongly agree"
   ]
  },
  {
   "cell_type": "code",
   "execution_count": null,
   "metadata": {},
   "outputs": [],
   "source": [
    "PlotGraphs(\"SCES\", 5)"
   ]
  },
  {
   "cell_type": "markdown",
   "metadata": {},
   "source": [
    "### SCES Question 6\n",
    "\n",
    "I have clear ethical guiding principles that I keep in mind and follow at all times.\n",
    "\n",
    "1. I strongly disagree\n",
    "2. I disagree\n",
    "3. Nothing to state\n",
    "4. I agree\n",
    "5. I strongly agree"
   ]
  },
  {
   "cell_type": "code",
   "execution_count": null,
   "metadata": {},
   "outputs": [],
   "source": [
    "PlotGraphs(\"SCES\", 6)"
   ]
  },
  {
   "cell_type": "markdown",
   "metadata": {},
   "source": [
    "### SCES Question 7\n",
    "\n",
    "It is more important for me to behave ethically than to get an advantage in life.\n",
    "\n",
    "1. I strongly disagree\n",
    "2. I disagree\n",
    "3. Nothing to state\n",
    "4. I agree\n",
    "5. I strongly agree"
   ]
  },
  {
   "cell_type": "code",
   "execution_count": null,
   "metadata": {},
   "outputs": [],
   "source": [
    "PlotGraphs(\"SCES\", 7)"
   ]
  },
  {
   "cell_type": "markdown",
   "metadata": {},
   "source": [
    "### SCES Question 8\n",
    "\n",
    "I never take advantage of others and am truthful in my relationships and interactions even when it might put me at a disadvantage.\n",
    "\n",
    "1. I strongly disagree\n",
    "2. I disagree\n",
    "3. Nothing to state\n",
    "4. I agree\n",
    "5. I strongly agree"
   ]
  },
  {
   "cell_type": "code",
   "execution_count": null,
   "metadata": {},
   "outputs": [],
   "source": [
    "PlotGraphs(\"SCES\", 8)"
   ]
  },
  {
   "cell_type": "markdown",
   "metadata": {},
   "source": [
    "### SCES Question 9\n",
    "\n",
    "I would not be embarrassed if all of my actions were filmed and played back for others to see and evaluate.\n",
    "\n",
    "1. I strongly disagree\n",
    "2. I disagree\n",
    "3. Nothing to state\n",
    "4. I agree\n",
    "5. I strongly agree"
   ]
  },
  {
   "cell_type": "code",
   "execution_count": null,
   "metadata": {},
   "outputs": [],
   "source": [
    "PlotGraphs(\"SCES\", 9)"
   ]
  },
  {
   "cell_type": "markdown",
   "metadata": {},
   "source": [
    "### SCES Question 10\n",
    "\n",
    "I typically ask myself what the right thing to do is from an ethical or moral perspective before making decisions\n",
    "\n",
    "1. I strongly disagree\n",
    "2. I disagree\n",
    "3. Nothing to state\n",
    "4. I agree\n",
    "5. I strongly agree"
   ]
  },
  {
   "cell_type": "code",
   "execution_count": null,
   "metadata": {},
   "outputs": [],
   "source": [
    "PlotGraphs(\"SCES\", 10)"
   ]
  },
  {
   "cell_type": "markdown",
   "metadata": {},
   "source": [
    "Summarizing our findings and bringing answers to the research questions posed at the introduction of this study, our results show that:\n",
    " \n",
    "- **Can passive exposure to a CoE influence the decision-making of IT professionals and students?** We failed to reject H0 for the 16 ethical dilemmas. Our 2018 ACM CoE intervention did not produce a statistically significant difference in the response patterns of groups C and E regarding their monitored decision-making patterns. All these results were shown regardless of the type of subgroup comparison performed.\n",
    "- **Is ethical training an active topic in their academic or professional careers?** Most of our study participants self-report an average or above-average ethical training. A minority of our sample ($\\approx$ 18\\%) states to have below-average ethical training during their formation.\n",
    "- **What is the importance IT professionals and students attribute to CoE?** Subjects report that they attribute considerable significance to the use and existence of codes of ethics. Most of our sample (> 90\\%) agree that these CoEs are important for IT practices.\n",
    "- **Can passive exposure to a CoE influence how IT professionals and students perceive their moral behavior?** We failed to reject H0 for moral self-assessment. Our 2018 ACM CoE intervention did not produce a statistically significant difference in groups C and E's response patterns regarding how they perceive their day-to-day ethical practices. All these results were shown regardless of the type of subgroup comparison performed."
   ]
  }
 ],
 "metadata": {
  "colab": {
   "authorship_tag": "ABX9TyNUB5xVk6dsCVCK5DWOKY0u",
   "provenance": []
  },
  "kernelspec": {
   "display_name": "Python 3",
   "name": "python3"
  },
  "language_info": {
   "codemirror_mode": {
    "name": "ipython",
    "version": 3
   },
   "file_extension": ".py",
   "mimetype": "text/x-python",
   "name": "python",
   "nbconvert_exporter": "python",
   "pygments_lexer": "ipython3",
   "version": "3.9.13"
  }
 },
 "nbformat": 4,
 "nbformat_minor": 0
}
